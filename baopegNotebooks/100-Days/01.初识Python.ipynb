{
 "cells": [
  {
   "metadata": {},
   "cell_type": "markdown",
   "source": "# 01.初识Python",
   "id": "4b5c6b8decbc1d35"
  },
  {
   "metadata": {},
   "cell_type": "markdown",
   "source": [
    "主要内容\n",
    "- Python的发源、历史、安装步骤\n",
    "- 安装成功的标准是：cmd里面输入`python`能够成功进入Python界面或者输入`python --version`能够成功显示Python版本信息。"
   ],
   "id": "c4f8fe20b4d2f5be"
  },
  {
   "metadata": {},
   "cell_type": "code",
   "outputs": [],
   "execution_count": null,
   "source": "",
   "id": "4af526c0e2a0574e"
  }
 ],
 "metadata": {
  "kernelspec": {
   "display_name": "Python 3",
   "language": "python",
   "name": "python3"
  },
  "language_info": {
   "codemirror_mode": {
    "name": "ipython",
    "version": 2
   },
   "file_extension": ".py",
   "mimetype": "text/x-python",
   "name": "python",
   "nbconvert_exporter": "python",
   "pygments_lexer": "ipython2",
   "version": "2.7.6"
  }
 },
 "nbformat": 4,
 "nbformat_minor": 5
}
