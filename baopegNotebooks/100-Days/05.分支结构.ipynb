{
 "cells": [
  {
   "metadata": {},
   "cell_type": "markdown",
   "source": "# 05.分支结构",
   "id": "1a54bd81ad3fe220"
  },
  {
   "metadata": {},
   "cell_type": "code",
   "outputs": [],
   "execution_count": null,
   "source": [
    "\"\"\"分支结构 ：\n",
    "   if 条件：\n",
    "   elif条件：\n",
    "   else：\n",
    "   \n",
    "   \n",
    "   \n",
    "   3.10新增\n",
    "   match-case语法\n",
    "match 变量:\n",
    "    case \"a\":\n",
    "        print(\"a\")\n",
    "    case \"b\":\n",
    "        print(\"b\")\n",
    "    case _:   _下划线表示统配符号，必须放在末尾\n",
    "        print(\"_\")\n",
    "\"\"\""
   ],
   "id": "fcad1081fda188d7"
  }
 ],
 "metadata": {
  "kernelspec": {
   "display_name": "Python 3",
   "language": "python",
   "name": "python3"
  },
  "language_info": {
   "codemirror_mode": {
    "name": "ipython",
    "version": 2
   },
   "file_extension": ".py",
   "mimetype": "text/x-python",
   "name": "python",
   "nbconvert_exporter": "python",
   "pygments_lexer": "ipython2",
   "version": "2.7.6"
  }
 },
 "nbformat": 4,
 "nbformat_minor": 5
}
