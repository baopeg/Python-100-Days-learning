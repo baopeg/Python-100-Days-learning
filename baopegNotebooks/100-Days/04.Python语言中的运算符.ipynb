{
 "cells": [
  {
   "metadata": {},
   "cell_type": "markdown",
   "source": "# Python语言中的运算符",
   "id": "486c7033da49fa7a"
  },
  {
   "metadata": {},
   "cell_type": "markdown",
   "source": [
    "## 目录\n",
    "- 算数运算符\n",
    "- 赋值运算符\n",
    "- 比较运算符\n",
    "- 逻辑运算符(and)\n",
    "- 逻辑运算符(or)\n",
    "- 逻辑运算符(not)\n",
    "- 逻辑运算符优先级\n",
    "- 逻辑运算符特殊场景\n",
    "- 运算符和表达式应用"
   ],
   "id": "dc9631e6fd66e49"
  },
  {
   "metadata": {},
   "cell_type": "markdown",
   "source": "## 算数运算符",
   "id": "4c9ec6d4830c6a11"
  },
  {
   "metadata": {
    "ExecuteTime": {
     "end_time": "2025-02-25T09:19:26.516384Z",
     "start_time": "2025-02-25T09:19:26.495695Z"
    }
   },
   "cell_type": "code",
   "source": [
    "print(1 + 1)  #加法运算\n",
    "type(1 + 1)"
   ],
   "id": "dc9c58ea52ddc80a",
   "outputs": [
    {
     "name": "stdout",
     "output_type": "stream",
     "text": [
      "2\n"
     ]
    },
    {
     "data": {
      "text/plain": [
       "int"
      ]
     },
     "execution_count": 56,
     "metadata": {},
     "output_type": "execute_result"
    }
   ],
   "execution_count": 56
  },
  {
   "metadata": {
    "ExecuteTime": {
     "end_time": "2025-02-25T09:19:26.658282Z",
     "start_time": "2025-02-25T09:19:26.640302Z"
    }
   },
   "cell_type": "code",
   "source": [
    "print(3 - 1)  #减法运算\n",
    "type(3 - 1)"
   ],
   "id": "54086db3e79b3600",
   "outputs": [
    {
     "name": "stdout",
     "output_type": "stream",
     "text": [
      "2\n"
     ]
    },
    {
     "data": {
      "text/plain": [
       "int"
      ]
     },
     "execution_count": 57,
     "metadata": {},
     "output_type": "execute_result"
    }
   ],
   "execution_count": 57
  },
  {
   "metadata": {
    "ExecuteTime": {
     "end_time": "2025-02-25T09:19:26.674292Z",
     "start_time": "2025-02-25T09:19:26.662269Z"
    }
   },
   "cell_type": "code",
   "source": [
    "print(2 * 4)  #乘法运算\n",
    "type(2 * 4)"
   ],
   "id": "a8c7fafc00313d43",
   "outputs": [
    {
     "name": "stdout",
     "output_type": "stream",
     "text": [
      "8\n"
     ]
    },
    {
     "data": {
      "text/plain": [
       "int"
      ]
     },
     "execution_count": 58,
     "metadata": {},
     "output_type": "execute_result"
    }
   ],
   "execution_count": 58
  },
  {
   "metadata": {
    "ExecuteTime": {
     "end_time": "2025-02-25T09:19:26.736014Z",
     "start_time": "2025-02-25T09:19:26.722470Z"
    }
   },
   "cell_type": "code",
   "source": [
    "print(10 / 5)  #除法运算,返回值默认为浮点数\n",
    "type(10 / 5)"
   ],
   "id": "36abd23cda9ab062",
   "outputs": [
    {
     "name": "stdout",
     "output_type": "stream",
     "text": [
      "2.0\n"
     ]
    },
    {
     "data": {
      "text/plain": [
       "float"
      ]
     },
     "execution_count": 59,
     "metadata": {},
     "output_type": "execute_result"
    }
   ],
   "execution_count": 59
  },
  {
   "metadata": {
    "ExecuteTime": {
     "end_time": "2025-02-25T09:19:26.784021Z",
     "start_time": "2025-02-25T09:19:26.759991Z"
    }
   },
   "cell_type": "code",
   "source": [
    "print(10 // 5)  #整除运算,返回值默认为整数\n",
    "type(10 // 5)"
   ],
   "id": "cfefbf63409aabb5",
   "outputs": [
    {
     "name": "stdout",
     "output_type": "stream",
     "text": [
      "2\n"
     ]
    },
    {
     "data": {
      "text/plain": [
       "int"
      ]
     },
     "execution_count": 60,
     "metadata": {},
     "output_type": "execute_result"
    }
   ],
   "execution_count": 60
  },
  {
   "metadata": {
    "ExecuteTime": {
     "end_time": "2025-02-25T09:19:26.830031Z",
     "start_time": "2025-02-25T09:19:26.816989Z"
    }
   },
   "cell_type": "code",
   "source": [
    "print(10 % 3)  #取余运算,返回值默认为整数\n",
    "type(10 % 3)"
   ],
   "id": "113bedf2b67425f8",
   "outputs": [
    {
     "name": "stdout",
     "output_type": "stream",
     "text": [
      "1\n"
     ]
    },
    {
     "data": {
      "text/plain": [
       "int"
      ]
     },
     "execution_count": 61,
     "metadata": {},
     "output_type": "execute_result"
    }
   ],
   "execution_count": 61
  },
  {
   "metadata": {
    "ExecuteTime": {
     "end_time": "2025-02-25T09:19:26.877546Z",
     "start_time": "2025-02-25T09:19:26.856550Z"
    }
   },
   "cell_type": "code",
   "source": [
    "print(2 ** 3)  #幂运算,返回值默认为整数\n",
    "type(2 ** 3)"
   ],
   "id": "23c13f1fb80f5458",
   "outputs": [
    {
     "name": "stdout",
     "output_type": "stream",
     "text": [
      "8\n"
     ]
    },
    {
     "data": {
      "text/plain": [
       "int"
      ]
     },
     "execution_count": 62,
     "metadata": {},
     "output_type": "execute_result"
    }
   ],
   "execution_count": 62
  },
  {
   "metadata": {},
   "cell_type": "markdown",
   "source": "## 赋值运算符",
   "id": "f64471b3388c95f9"
  },
  {
   "metadata": {
    "ExecuteTime": {
     "end_time": "2025-02-25T09:19:26.941115Z",
     "start_time": "2025-02-25T09:19:26.923563Z"
    }
   },
   "cell_type": "code",
   "source": [
    "a = 10\n",
    "b = 3\n",
    "a += b  #a=a+b\n",
    "a *= a + 2  #a=a*(a+2)\n",
    "print(a)"
   ],
   "id": "63a816560aae4b10",
   "outputs": [
    {
     "name": "stdout",
     "output_type": "stream",
     "text": [
      "195\n"
     ]
    }
   ],
   "execution_count": 63
  },
  {
   "metadata": {
    "ExecuteTime": {
     "end_time": "2025-02-25T09:19:26.972135Z",
     "start_time": "2025-02-25T09:19:26.958117Z"
    }
   },
   "cell_type": "code",
   "source": [
    "# 海象运算符\n",
    "# print((a=10))\n",
    "\"\"\" Cell In[37], line 2\n",
    "    print((a=10))\n",
    "            ^\n",
    "SyntaxError: invalid syntax\"\"\"\n",
    "print(a := 12)  #Python 3.8新增海象运算符，可以用来赋值并返回值\n",
    "print(a)"
   ],
   "id": "d5308a796acaefa4",
   "outputs": [
    {
     "name": "stdout",
     "output_type": "stream",
     "text": [
      "12\n",
      "12\n"
     ]
    }
   ],
   "execution_count": 64
  },
  {
   "metadata": {},
   "cell_type": "markdown",
   "source": "## 比较运算符",
   "id": "965f09e2e6fcdcd6"
  },
  {
   "metadata": {},
   "cell_type": "markdown",
   "source": [
    "- 比较运算符：==、!=、>、<、>=、<=\n",
    "- 逻辑运算符：and、or、not"
   ],
   "id": "48a352196cd4dec0"
  },
  {
   "metadata": {},
   "cell_type": "markdown",
   "source": [
    "两种运算符返回的值都能返回bool类型\n",
    "区别是逻辑运算符返回的是布尔值，而比较运算符返回的是布尔值或None"
   ],
   "id": "3216cf32315621b7"
  },
  {
   "metadata": {},
   "cell_type": "markdown",
   "source": "## 逻辑运算符(and)",
   "id": "de364c339ae1bc00"
  },
  {
   "metadata": {
    "ExecuteTime": {
     "end_time": "2025-02-25T09:19:27.035342Z",
     "start_time": "2025-02-25T09:19:27.016757Z"
    }
   },
   "cell_type": "code",
   "source": [
    "\"\"\"\n",
    "运算规则：从左到右评估，返回第一个假值，若所有值为真，返回最后一个操作数\n",
    "适用数据类型：所有可以进行布尔判断的类型（数值型、容器型、对象等\n",
    "判断规则（如果为一下值，则判断为相应布尔类型）：\n",
    "    False: 0, 0.0, '', [], {}, set(), None\n",
    "    True : 其他值\n",
    "  \"\"\"\n",
    "print(3 and 5)  # 输出 5（全真返回最后一个）\n",
    "print(0 and 5)  # 输出 0（第一个为假）\n",
    "print([] and 'hi')  # 输出 []（空列表为假）\n"
   ],
   "id": "add3281b65f5ba72",
   "outputs": [
    {
     "name": "stdout",
     "output_type": "stream",
     "text": [
      "5\n",
      "0\n",
      "[]\n"
     ]
    }
   ],
   "execution_count": 65
  },
  {
   "metadata": {},
   "cell_type": "markdown",
   "source": "## 逻辑运算符(or)",
   "id": "8010c5dada7f1168"
  },
  {
   "metadata": {
    "ExecuteTime": {
     "end_time": "2025-02-25T09:19:27.066262Z",
     "start_time": "2025-02-25T09:19:27.046266Z"
    }
   },
   "cell_type": "code",
   "source": [
    "\"\"\"\n",
    "运算规则：从左到右评估，返回第一个真值，若所有值为假，返回最后一个操作数\"\"\"\n",
    "print(3 or 5)  # 输出 3（第一个为真）\n",
    "print(0 or 5)  # 输出 5（第一个为假）\n",
    "print('' or [])  # 输出 []（全假返回最后一个）\n"
   ],
   "id": "d8d957d4a2b6ca35",
   "outputs": [
    {
     "name": "stdout",
     "output_type": "stream",
     "text": [
      "3\n",
      "5\n",
      "[]\n"
     ]
    }
   ],
   "execution_count": 66
  },
  {
   "metadata": {},
   "cell_type": "markdown",
   "source": "## 逻辑运算符(not)",
   "id": "89e80914748f467a"
  },
  {
   "metadata": {
    "ExecuteTime": {
     "end_time": "2025-02-25T09:19:27.114364Z",
     "start_time": "2025-02-25T09:19:27.100355Z"
    }
   },
   "cell_type": "code",
   "source": [
    "\"\"\"\n",
    "运算规则：返回操作数布尔值的反向布尔值（永远返回 True/False）\n",
    "\"\"\"\n",
    "print(not 3)  # False（非零为真→取反）\n",
    "print(not [])  # True（空列表为假→取反）\n",
    "print(not None)  # True"
   ],
   "id": "54a28ce71a8f3d72",
   "outputs": [
    {
     "name": "stdout",
     "output_type": "stream",
     "text": [
      "False\n",
      "True\n",
      "True\n"
     ]
    }
   ],
   "execution_count": 67
  },
  {
   "metadata": {},
   "cell_type": "markdown",
   "source": "## 逻辑运算符优先级",
   "id": "b4253457dbcff104"
  },
  {
   "metadata": {
    "ExecuteTime": {
     "end_time": "2025-02-25T09:19:27.145937Z",
     "start_time": "2025-02-25T09:19:27.129363Z"
    }
   },
   "cell_type": "code",
   "source": [
    "# 逻辑运算符优先级：not > and > or\n",
    "print(not 3 and 5)  # False（not 3为假→取反）\n",
    "print(not 0 and 5)  # False（第一个为假→取反）\n",
    "print(not 0 or 5)  # True（第一个为假→取反）\n",
    "print(not 0 and 5 or 3)  # False（第一个为假→取反）\n",
    "print(not 0 or 5 and 3)  # True（第二个为真→取反）"
   ],
   "id": "f9fb8afda7921c96",
   "outputs": [
    {
     "name": "stdout",
     "output_type": "stream",
     "text": [
      "False\n",
      "5\n",
      "True\n",
      "5\n",
      "True\n"
     ]
    }
   ],
   "execution_count": 68
  },
  {
   "metadata": {},
   "cell_type": "markdown",
   "source": "## 逻辑运算符特殊场景",
   "id": "647365e973d5c599"
  },
  {
   "metadata": {},
   "cell_type": "code",
   "source": [
    " # 默认值设置\n",
    "# 当config未设置时使用默认值\n",
    "port = user_config.get('port') or 3306"
   ],
   "id": "aa8b8fcdd24174ce",
   "outputs": [],
   "execution_count": null
  },
  {
   "metadata": {},
   "cell_type": "code",
   "source": [
    "# 安全访问嵌套格式\n",
    "# 安全获取字典深层值\n",
    "value = data.get('a') and data['a'].get('b')"
   ],
   "id": "11add6386bce8ffb",
   "outputs": [],
   "execution_count": null
  },
  {
   "metadata": {},
   "cell_type": "code",
   "source": [
    "# 条件过滤\n",
    "# 筛选非空有效数据\n",
    "valid_data = [item for item in raw_list if item and item.strip()]"
   ],
   "id": "65098b14b1fa9844",
   "outputs": [],
   "execution_count": null
  },
  {
   "metadata": {
    "ExecuteTime": {
     "end_time": "2025-02-25T09:19:43.287657Z",
     "start_time": "2025-02-25T09:19:43.280656Z"
    }
   },
   "cell_type": "code",
   "source": [
    "\"\"\"与其他类型结合使用\"\"\"\n",
    "# 数值型\n",
    "print(3.14 and -5)  # -5（全真返回最后一个）\n",
    "print(0.0 or 100)  # 100"
   ],
   "id": "6bb2c4d1f2dad63a",
   "outputs": [
    {
     "name": "stdout",
     "output_type": "stream",
     "text": [
      "-5\n",
      "100\n"
     ]
    }
   ],
   "execution_count": 70
  },
  {
   "metadata": {
    "ExecuteTime": {
     "end_time": "2025-02-25T09:19:44.006727Z",
     "start_time": "2025-02-25T09:19:43.998636Z"
    }
   },
   "cell_type": "code",
   "source": [
    "# 字符串型\n",
    "print('Hello' or 'World')  # Hello\n",
    "print('' or 'Default')  # Default\n"
   ],
   "id": "928447cc8df99fba",
   "outputs": [
    {
     "name": "stdout",
     "output_type": "stream",
     "text": [
      "Hello\n",
      "Default\n"
     ]
    }
   ],
   "execution_count": 71
  },
  {
   "metadata": {
    "ExecuteTime": {
     "end_time": "2025-02-25T09:19:44.678579Z",
     "start_time": "2025-02-25T09:19:44.662557Z"
    }
   },
   "cell_type": "code",
   "source": [
    "# 容器型\n",
    "print([1, 2] and {'a': 1})  # {'a':1}\n",
    "print(() or [])  # []（全假返回最后一个）\n"
   ],
   "id": "ae8d2371d949a6b8",
   "outputs": [
    {
     "name": "stdout",
     "output_type": "stream",
     "text": [
      "{'a': 1}\n",
      "[]\n"
     ]
    }
   ],
   "execution_count": 72
  },
  {
   "metadata": {
    "ExecuteTime": {
     "end_time": "2025-02-25T09:19:45.320876Z",
     "start_time": "2025-02-25T09:19:45.313871Z"
    }
   },
   "cell_type": "code",
   "source": [
    "# 与none类型结合使用\n",
    "result = None or []\n",
    "# → []（None为假，返回空列表）"
   ],
   "id": "200d17c862210379",
   "outputs": [],
   "execution_count": 73
  },
  {
   "metadata": {
    "ExecuteTime": {
     "end_time": "2025-02-25T09:19:46.086953Z",
     "start_time": "2025-02-25T09:19:46.074922Z"
    }
   },
   "cell_type": "code",
   "source": [
    "\"\"\"注意事项\"\"\"\n",
    "# 类型一致性\n",
    "print(3 and 'apple')  # → 'apple' (int + str)\n",
    "# 布尔转换陷阱\n",
    "# 看似布尔判断，实际返回原值\n",
    "flag = 0 or []\n",
    "print(bool(flag))  # → False（但flag本身是空列表）\n",
    "# 运算符优先级\n",
    "# 易混淆的表达式\n",
    "not 3 > 5 and 8 < 10  # → not(3>5) and (8<10) → True\n",
    "   "
   ],
   "id": "5f667810d2abc634",
   "outputs": [
    {
     "name": "stdout",
     "output_type": "stream",
     "text": [
      "apple\n",
      "False\n"
     ]
    },
    {
     "data": {
      "text/plain": [
       "True"
      ]
     },
     "execution_count": 74,
     "metadata": {},
     "output_type": "execute_result"
    }
   ],
   "execution_count": 74
  },
  {
   "metadata": {},
   "cell_type": "markdown",
   "source": "## 运算符和表达式应用",
   "id": "fd9d94c26ac8627a"
  },
  {
   "metadata": {},
   "cell_type": "markdown",
   "source": [
    "- 例子1：华氏温度转摄氏温度\n",
    "- 要求：输入华氏温度将其转换为摄氏温度，华氏温度到摄氏温度的转换公式为：c=(f-32)/1.8"
   ],
   "id": "5657be92b4be0afc"
  },
  {
   "metadata": {
    "ExecuteTime": {
     "end_time": "2025-02-25T09:19:52.338746Z",
     "start_time": "2025-02-25T09:19:47.800661Z"
    }
   },
   "cell_type": "code",
   "source": [
    "f = float(input(\"请输入华氏温度：\"))\n",
    "c = (f - 32) / 1.8\n",
    "print(f\"{f}华氏度={c:.2f}摄氏度\")"
   ],
   "id": "33f3c3de1f798d3b",
   "outputs": [
    {
     "name": "stdout",
     "output_type": "stream",
     "text": [
      "100.0华氏度=37.78摄氏度\n"
     ]
    }
   ],
   "execution_count": 75
  },
  {
   "metadata": {},
   "cell_type": "markdown",
   "source": [
    "- 例子2：计算圆的周长和面积\n",
    "- 要求：输入一个圆的半径，计算出它的周长和面积"
   ],
   "id": "d8e95612e7934da3"
  },
  {
   "metadata": {
    "ExecuteTime": {
     "end_time": "2025-02-25T09:19:59.720197Z",
     "start_time": "2025-02-25T09:19:55.421353Z"
    }
   },
   "cell_type": "code",
   "source": [
    "from math import pi  #从math中导入pi的值\n",
    "\n",
    "radius = float(input(\"请输入圆的半径：\"))\n",
    "perimeter = 2 * pi * radius  #周长公式\n",
    "area = pi * radius ** 2  #面积公式\n",
    "print(f\"半径为{radius}的圆：周长为{perimeter:.2f}，面积为{area:.2f}\")  #f-string，格式化输出"
   ],
   "id": "b04d098b7be01e14",
   "outputs": [
    {
     "name": "stdout",
     "output_type": "stream",
     "text": [
      "半径为3.0的圆：周长为18.85，面积为28.27\n"
     ]
    }
   ],
   "execution_count": 76
  },
  {
   "metadata": {},
   "cell_type": "markdown",
   "source": [
    "- 例子3：判断闰年\n",
    "- 要求：输入一个年份，判断该年份是否为闰年"
   ],
   "id": "ae60f472e7c430fc"
  },
  {
   "metadata": {
    "ExecuteTime": {
     "end_time": "2025-02-25T09:20:05.227844Z",
     "start_time": "2025-02-25T09:20:01.895011Z"
    }
   },
   "cell_type": "code",
   "source": [
    "year = int(input(\"请输入年份：\"))\n",
    "is_leap_year = (year % 4 == 0 and year % 100 != 0) or year % 400 == 0\n",
    "# is_not_leap_year = year % 4 != 0\n",
    "is_not_leap_year = not is_leap_year\n",
    "print(f\"{year}是闰年：{is_leap_year}\")"
   ],
   "id": "a29f898f6e176c75",
   "outputs": [
    {
     "name": "stdout",
     "output_type": "stream",
     "text": [
      "2025是闰年：False\n"
     ]
    }
   ],
   "execution_count": 77
  }
 ],
 "metadata": {
  "kernelspec": {
   "display_name": "Python 3",
   "language": "python",
   "name": "python3"
  },
  "language_info": {
   "codemirror_mode": {
    "name": "ipython",
    "version": 2
   },
   "file_extension": ".py",
   "mimetype": "text/x-python",
   "name": "python",
   "nbconvert_exporter": "python",
   "pygments_lexer": "ipython2",
   "version": "2.7.6"
  }
 },
 "nbformat": 4,
 "nbformat_minor": 5
}
