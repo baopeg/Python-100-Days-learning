{
 "cells": [
  {
   "metadata": {},
   "cell_type": "markdown",
   "source": "# 03.python语言中的变量",
   "id": "b213c6352baf9ca6"
  },
  {
   "metadata": {},
   "cell_type": "markdown",
   "source": [
    "## 目录\n",
    "- [初识计算机结构](#初识计算机结构)\n",
    "- [变量和类型](#变量和类型)\n",
    "- [变量命名](#变量命名)\n",
    "- [变量的使用](#变量的使用)\n",
    "- [变量运算](#变量运算)\n"
   ],
   "id": "26cdfaf3f3f6dda6"
  },
  {
   "metadata": {},
   "cell_type": "markdown",
   "source": "## 变量和类型",
   "id": "54c31a3f914fb170"
  },
  {
   "metadata": {},
   "cell_type": "markdown",
   "source": [
    "- 整型int\n",
    "- 浮点型float\n",
    "- 字符串str\n",
    "- 布尔型bool"
   ],
   "id": "7552b74de335dc51"
  },
  {
   "metadata": {
    "ExecuteTime": {
     "end_time": "2025-02-25T07:30:34.058844Z",
     "start_time": "2025-02-25T07:30:34.040846Z"
    }
   },
   "cell_type": "code",
   "source": [
    "# 整型int\n",
    "print(0b100)  # 二进制整数\n",
    "print(0o100)  # 八进制整数\n",
    "print(100)  # 十进制整数\n",
    "print(0x100)  # 十六进制整数"
   ],
   "id": "b2e66a43143460fb",
   "outputs": [
    {
     "name": "stdout",
     "output_type": "stream",
     "text": [
      "4\n",
      "64\n",
      "100\n",
      "256\n"
     ]
    }
   ],
   "execution_count": 281
  },
  {
   "metadata": {
    "ExecuteTime": {
     "end_time": "2025-02-25T07:30:34.230372Z",
     "start_time": "2025-02-25T07:30:34.215379Z"
    }
   },
   "cell_type": "code",
   "source": [
    "# 浮点型float\n",
    "print(123.456)  # 数学写法\n",
    "print(1.23456e2)  # 科学计数法，2e3 = 2 * 10^3"
   ],
   "id": "fadae677872fdf85",
   "outputs": [
    {
     "name": "stdout",
     "output_type": "stream",
     "text": [
      "123.456\n",
      "123.456\n"
     ]
    }
   ],
   "execution_count": 282
  },
  {
   "metadata": {
    "ExecuteTime": {
     "end_time": "2025-02-25T07:30:34.246368Z",
     "start_time": "2025-02-25T07:30:34.232373Z"
    }
   },
   "cell_type": "code",
   "source": [
    "# 字符串str\n",
    "print(\"Hello World\")"
   ],
   "id": "474ea9f3677d5024",
   "outputs": [
    {
     "name": "stdout",
     "output_type": "stream",
     "text": [
      "Hello World\n"
     ]
    }
   ],
   "execution_count": 283
  },
  {
   "metadata": {
    "ExecuteTime": {
     "end_time": "2025-02-25T07:30:34.262367Z",
     "start_time": "2025-02-25T07:30:34.250368Z"
    }
   },
   "cell_type": "code",
   "source": [
    "# 布尔型bool\n",
    "print(True)\n",
    "print(False)"
   ],
   "id": "37681bc9399afaa0",
   "outputs": [
    {
     "name": "stdout",
     "output_type": "stream",
     "text": [
      "True\n",
      "False\n"
     ]
    }
   ],
   "execution_count": 284
  },
  {
   "metadata": {},
   "cell_type": "markdown",
   "source": "## 变量命名",
   "id": "ea0f7044ab1b6e96"
  },
  {
   "metadata": {},
   "cell_type": "markdown",
   "source": [
    "- 惯例1：变量名通常使用小写英文字母，多个单词用下划线进行连接。\n",
    "- 惯例2：受保护的变量用单个下划线开头。\n",
    "- 惯例3：私有的变量用两个下划线开头。"
   ],
   "id": "98644870b2368fc5"
  },
  {
   "metadata": {
    "ExecuteTime": {
     "end_time": "2025-02-25T07:30:34.310009Z",
     "start_time": "2025-02-25T07:30:34.297990Z"
    }
   },
   "cell_type": "code",
   "source": "words_count = 100",
   "id": "ad7b3bf8ce0d92fb",
   "outputs": [],
   "execution_count": 285
  },
  {
   "metadata": {},
   "cell_type": "markdown",
   "source": "## 变量的使用",
   "id": "b33ab8604702d858"
  },
  {
   "metadata": {
    "ExecuteTime": {
     "end_time": "2025-02-25T07:30:34.357985Z",
     "start_time": "2025-02-25T07:30:34.345988Z"
    }
   },
   "cell_type": "code",
   "source": [
    "a = 12  #定义变量啊，并赋值为12\n",
    "b = 5  #定义变量b，并赋值为3\n",
    "print(a, b)  # 输出a和b的值"
   ],
   "id": "67a90d4a94e5c40b",
   "outputs": [
    {
     "name": "stdout",
     "output_type": "stream",
     "text": [
      "12 5\n"
     ]
    }
   ],
   "execution_count": 286
  },
  {
   "metadata": {
    "ExecuteTime": {
     "end_time": "2025-02-25T07:30:34.437531Z",
     "start_time": "2025-02-25T07:30:34.420519Z"
    }
   },
   "cell_type": "code",
   "source": [
    "c = \"hello\"  #定义变量c，并赋值为\"hello\"\n",
    "d = True  #定义变量d，并赋值为True\n",
    "e = [1, 2, 3]  #定义变量e，并赋值为[1, 2, 3]\n",
    "type(a), type(b), type(c), type(d), type(e)  #输出a,b,c,d,e的类型"
   ],
   "id": "9c3eec75a3e5b394",
   "outputs": [
    {
     "data": {
      "text/plain": [
       "(int, int, str, bool, list)"
      ]
     },
     "execution_count": 287,
     "metadata": {},
     "output_type": "execute_result"
    }
   ],
   "execution_count": 287
  },
  {
   "metadata": {
    "ExecuteTime": {
     "end_time": "2025-02-25T07:30:34.532652Z",
     "start_time": "2025-02-25T07:30:34.518654Z"
    }
   },
   "cell_type": "code",
   "source": [
    "# 数据类型变换\n",
    "float(a)  # 将a转换为浮点数\n",
    "str(b)  # 将b转换为字符串\n",
    "type(a), type(b)"
   ],
   "id": "1dafad5ab7a0cd42",
   "outputs": [
    {
     "data": {
      "text/plain": [
       "(int, int)"
      ]
     },
     "execution_count": 288,
     "metadata": {},
     "output_type": "execute_result"
    }
   ],
   "execution_count": 288
  },
  {
   "metadata": {},
   "cell_type": "markdown",
   "source": "## 变量运算",
   "id": "cc88eb2b32905829"
  },
  {
   "metadata": {
    "ExecuteTime": {
     "end_time": "2025-02-25T07:30:34.564650Z",
     "start_time": "2025-02-25T07:30:34.543654Z"
    }
   },
   "cell_type": "code",
   "source": "a + b  # 输出a和b的和",
   "id": "b89a56b35a06c733",
   "outputs": [
    {
     "data": {
      "text/plain": [
       "17"
      ]
     },
     "execution_count": 289,
     "metadata": {},
     "output_type": "execute_result"
    }
   ],
   "execution_count": 289
  },
  {
   "metadata": {
    "ExecuteTime": {
     "end_time": "2025-02-25T07:30:34.612190Z",
     "start_time": "2025-02-25T07:30:34.592188Z"
    }
   },
   "cell_type": "code",
   "source": "a - b  # 输出a和b的差",
   "id": "1b6a2870dfb0caa9",
   "outputs": [
    {
     "data": {
      "text/plain": [
       "7"
      ]
     },
     "execution_count": 290,
     "metadata": {},
     "output_type": "execute_result"
    }
   ],
   "execution_count": 290
  },
  {
   "metadata": {
    "ExecuteTime": {
     "end_time": "2025-02-25T07:30:34.644188Z",
     "start_time": "2025-02-25T07:30:34.623188Z"
    }
   },
   "cell_type": "code",
   "source": "a * b  # 输出a和b的积",
   "id": "5681691a73893ef3",
   "outputs": [
    {
     "data": {
      "text/plain": [
       "60"
      ]
     },
     "execution_count": 291,
     "metadata": {},
     "output_type": "execute_result"
    }
   ],
   "execution_count": 291
  },
  {
   "metadata": {
    "ExecuteTime": {
     "end_time": "2025-02-25T07:30:34.676201Z",
     "start_time": "2025-02-25T07:30:34.667191Z"
    }
   },
   "cell_type": "code",
   "source": "a / b  # 输出a和b的商",
   "id": "192a98bbe32dbc0",
   "outputs": [
    {
     "data": {
      "text/plain": [
       "2.4"
      ]
     },
     "execution_count": 292,
     "metadata": {},
     "output_type": "execute_result"
    }
   ],
   "execution_count": 292
  },
  {
   "metadata": {
    "ExecuteTime": {
     "end_time": "2025-02-25T07:30:34.770959Z",
     "start_time": "2025-02-25T07:30:34.748500Z"
    }
   },
   "cell_type": "code",
   "source": "a // b  # 输出a和b的整数商",
   "id": "87e16da47ada8937",
   "outputs": [
    {
     "data": {
      "text/plain": [
       "2"
      ]
     },
     "execution_count": 293,
     "metadata": {},
     "output_type": "execute_result"
    }
   ],
   "execution_count": 293
  },
  {
   "metadata": {
    "ExecuteTime": {
     "end_time": "2025-02-25T07:30:34.880510Z",
     "start_time": "2025-02-25T07:30:34.863471Z"
    }
   },
   "cell_type": "code",
   "source": "a % b  # 输出a和b的余数",
   "id": "334706394e586aa1",
   "outputs": [
    {
     "data": {
      "text/plain": [
       "2"
      ]
     },
     "execution_count": 294,
     "metadata": {},
     "output_type": "execute_result"
    }
   ],
   "execution_count": 294
  },
  {
   "metadata": {
    "ExecuteTime": {
     "end_time": "2025-02-25T07:30:34.896636Z",
     "start_time": "2025-02-25T07:30:34.882483Z"
    }
   },
   "cell_type": "code",
   "source": "a ** b  # 输出a的b次方",
   "id": "4365a264a39e7333",
   "outputs": [
    {
     "data": {
      "text/plain": [
       "248832"
      ]
     },
     "execution_count": 295,
     "metadata": {},
     "output_type": "execute_result"
    }
   ],
   "execution_count": 295
  },
  {
   "metadata": {
    "ExecuteTime": {
     "end_time": "2025-02-25T07:30:34.927630Z",
     "start_time": "2025-02-25T07:30:34.905648Z"
    }
   },
   "cell_type": "code",
   "source": "a > b  # 输出a是否大于b",
   "id": "943967305682b3f6",
   "outputs": [
    {
     "data": {
      "text/plain": [
       "True"
      ]
     },
     "execution_count": 296,
     "metadata": {},
     "output_type": "execute_result"
    }
   ],
   "execution_count": 296
  },
  {
   "metadata": {
    "ExecuteTime": {
     "end_time": "2025-02-25T07:30:34.990726Z",
     "start_time": "2025-02-25T07:30:34.974200Z"
    }
   },
   "cell_type": "code",
   "source": "a < b  # 输出a是否小于b",
   "id": "bbe0f2524697d14b",
   "outputs": [
    {
     "data": {
      "text/plain": [
       "False"
      ]
     },
     "execution_count": 297,
     "metadata": {},
     "output_type": "execute_result"
    }
   ],
   "execution_count": 297
  },
  {
   "metadata": {
    "ExecuteTime": {
     "end_time": "2025-02-25T07:30:35.052733Z",
     "start_time": "2025-02-25T07:30:35.042727Z"
    }
   },
   "cell_type": "code",
   "source": "a >= b  # 输出a是否大于等于b",
   "id": "32453ed4d8957154",
   "outputs": [
    {
     "data": {
      "text/plain": [
       "True"
      ]
     },
     "execution_count": 298,
     "metadata": {},
     "output_type": "execute_result"
    }
   ],
   "execution_count": 298
  },
  {
   "metadata": {
    "ExecuteTime": {
     "end_time": "2025-02-25T07:30:35.116925Z",
     "start_time": "2025-02-25T07:30:35.096944Z"
    }
   },
   "cell_type": "code",
   "source": "a <= b  # 输出a是否小于等于b",
   "id": "47a424f7be64d4cd",
   "outputs": [
    {
     "data": {
      "text/plain": [
       "False"
      ]
     },
     "execution_count": 299,
     "metadata": {},
     "output_type": "execute_result"
    }
   ],
   "execution_count": 299
  },
  {
   "metadata": {
    "ExecuteTime": {
     "end_time": "2025-02-25T07:30:35.163952Z",
     "start_time": "2025-02-25T07:30:35.150931Z"
    }
   },
   "cell_type": "code",
   "source": "a == b  # 输出a是否等于b",
   "id": "c44d11ed62ac74e4",
   "outputs": [
    {
     "data": {
      "text/plain": [
       "False"
      ]
     },
     "execution_count": 300,
     "metadata": {},
     "output_type": "execute_result"
    }
   ],
   "execution_count": 300
  },
  {
   "metadata": {
    "ExecuteTime": {
     "end_time": "2025-02-25T07:30:35.195214Z",
     "start_time": "2025-02-25T07:30:35.178964Z"
    }
   },
   "cell_type": "code",
   "source": "a != b  # 输出a是否不等于b",
   "id": "85b3b4d6417b7ecd",
   "outputs": [
    {
     "data": {
      "text/plain": [
       "True"
      ]
     },
     "execution_count": 301,
     "metadata": {},
     "output_type": "execute_result"
    }
   ],
   "execution_count": 301
  },
  {
   "metadata": {
    "ExecuteTime": {
     "end_time": "2025-02-25T07:30:35.227214Z",
     "start_time": "2025-02-25T07:30:35.215217Z"
    }
   },
   "cell_type": "code",
   "source": "a & b  # 输出a和b的与运算",
   "id": "9aafe98b3e69feed",
   "outputs": [
    {
     "data": {
      "text/plain": [
       "4"
      ]
     },
     "execution_count": 302,
     "metadata": {},
     "output_type": "execute_result"
    }
   ],
   "execution_count": 302
  },
  {
   "metadata": {
    "ExecuteTime": {
     "end_time": "2025-02-25T07:30:35.259219Z",
     "start_time": "2025-02-25T07:30:35.244215Z"
    }
   },
   "cell_type": "code",
   "source": "a | b  # 输出a和b的或运算",
   "id": "fa2a8959a05dde7",
   "outputs": [
    {
     "data": {
      "text/plain": [
       "13"
      ]
     },
     "execution_count": 303,
     "metadata": {},
     "output_type": "execute_result"
    }
   ],
   "execution_count": 303
  },
  {
   "metadata": {
    "ExecuteTime": {
     "end_time": "2025-02-25T07:30:35.305791Z",
     "start_time": "2025-02-25T07:30:35.284752Z"
    }
   },
   "cell_type": "code",
   "source": "a ^ b  # 输出a和b的异或运算",
   "id": "dba7dd967dc04058",
   "outputs": [
    {
     "data": {
      "text/plain": [
       "9"
      ]
     },
     "execution_count": 304,
     "metadata": {},
     "output_type": "execute_result"
    }
   ],
   "execution_count": 304
  },
  {
   "metadata": {
    "ExecuteTime": {
     "end_time": "2025-02-25T07:30:35.321793Z",
     "start_time": "2025-02-25T07:30:35.307759Z"
    }
   },
   "cell_type": "code",
   "source": "a << b  # 输出a左移b位",
   "id": "58eab01f5a23b7b4",
   "outputs": [
    {
     "data": {
      "text/plain": [
       "384"
      ]
     },
     "execution_count": 305,
     "metadata": {},
     "output_type": "execute_result"
    }
   ],
   "execution_count": 305
  },
  {
   "metadata": {
    "ExecuteTime": {
     "end_time": "2025-02-25T07:30:35.337788Z",
     "start_time": "2025-02-25T07:30:35.325761Z"
    }
   },
   "cell_type": "code",
   "source": "a >> b  # 输出a右移b位",
   "id": "efb208b407fa8089",
   "outputs": [
    {
     "data": {
      "text/plain": [
       "0"
      ]
     },
     "execution_count": 306,
     "metadata": {},
     "output_type": "execute_result"
    }
   ],
   "execution_count": 306
  },
  {
   "metadata": {
    "ExecuteTime": {
     "end_time": "2025-02-25T07:30:35.385305Z",
     "start_time": "2025-02-25T07:30:35.366767Z"
    }
   },
   "cell_type": "code",
   "source": "a and b  # 输出a和b的逻辑与运算",
   "id": "b246f94d5c6cd66",
   "outputs": [
    {
     "data": {
      "text/plain": [
       "5"
      ]
     },
     "execution_count": 307,
     "metadata": {},
     "output_type": "execute_result"
    }
   ],
   "execution_count": 307
  },
  {
   "metadata": {
    "ExecuteTime": {
     "end_time": "2025-02-25T07:30:35.417308Z",
     "start_time": "2025-02-25T07:30:35.400339Z"
    }
   },
   "cell_type": "code",
   "source": "a or b  # 输出a和b的逻辑或运算",
   "id": "8c6bcd6c9de8dcae",
   "outputs": [
    {
     "data": {
      "text/plain": [
       "12"
      ]
     },
     "execution_count": 308,
     "metadata": {},
     "output_type": "execute_result"
    }
   ],
   "execution_count": 308
  },
  {
   "metadata": {
    "ExecuteTime": {
     "end_time": "2025-02-25T07:30:35.480014Z",
     "start_time": "2025-02-25T07:30:35.461004Z"
    }
   },
   "cell_type": "code",
   "source": "not a  # 输出a的逻辑非运算",
   "id": "87948678d6adca6a",
   "outputs": [
    {
     "data": {
      "text/plain": [
       "False"
      ]
     },
     "execution_count": 309,
     "metadata": {},
     "output_type": "execute_result"
    }
   ],
   "execution_count": 309
  },
  {
   "metadata": {
    "ExecuteTime": {
     "end_time": "2025-02-25T07:30:35.511534Z",
     "start_time": "2025-02-25T07:30:35.492541Z"
    }
   },
   "cell_type": "code",
   "source": "a is b  # 输出a是否为b",
   "id": "5f6f04df124e1a88",
   "outputs": [
    {
     "data": {
      "text/plain": [
       "False"
      ]
     },
     "execution_count": 310,
     "metadata": {},
     "output_type": "execute_result"
    }
   ],
   "execution_count": 310
  },
  {
   "metadata": {
    "ExecuteTime": {
     "end_time": "2025-02-25T07:30:35.558578Z",
     "start_time": "2025-02-25T07:30:35.547537Z"
    }
   },
   "cell_type": "code",
   "source": "a is not b  # 输出a是否不为b",
   "id": "9446cf34f65b2b7",
   "outputs": [
    {
     "data": {
      "text/plain": [
       "True"
      ]
     },
     "execution_count": 311,
     "metadata": {},
     "output_type": "execute_result"
    }
   ],
   "execution_count": 311
  },
  {
   "metadata": {
    "ExecuteTime": {
     "end_time": "2025-02-25T07:30:35.590094Z",
     "start_time": "2025-02-25T07:30:35.578593Z"
    }
   },
   "cell_type": "code",
   "source": [
    "a = \"hello world\"\n",
    "b = \"hello\"\n",
    "b in a  # 输出a是否在b中"
   ],
   "id": "61f8e25c6bdb8d21",
   "outputs": [
    {
     "data": {
      "text/plain": [
       "True"
      ]
     },
     "execution_count": 312,
     "metadata": {},
     "output_type": "execute_result"
    }
   ],
   "execution_count": 312
  },
  {
   "metadata": {
    "ExecuteTime": {
     "end_time": "2025-02-25T07:30:35.638119Z",
     "start_time": "2025-02-25T07:30:35.617097Z"
    }
   },
   "cell_type": "code",
   "source": "a not in b  # 输出a是否不在b中",
   "id": "9cbc93bd43e9392b",
   "outputs": [
    {
     "data": {
      "text/plain": [
       "True"
      ]
     },
     "execution_count": 313,
     "metadata": {},
     "output_type": "execute_result"
    }
   ],
   "execution_count": 313
  },
  {
   "metadata": {
    "ExecuteTime": {
     "end_time": "2025-02-25T07:30:35.653988Z",
     "start_time": "2025-02-25T07:30:35.641097Z"
    }
   },
   "cell_type": "code",
   "source": "a is None  # 输出a是否为None",
   "id": "c65669172d6c9dfe",
   "outputs": [
    {
     "data": {
      "text/plain": [
       "False"
      ]
     },
     "execution_count": 314,
     "metadata": {},
     "output_type": "execute_result"
    }
   ],
   "execution_count": 314
  },
  {
   "metadata": {
    "ExecuteTime": {
     "end_time": "2025-02-25T07:30:35.701532Z",
     "start_time": "2025-02-25T07:30:35.683005Z"
    }
   },
   "cell_type": "code",
   "source": "a is not None  # 输出a是否不为None",
   "id": "c9500024447c6064",
   "outputs": [
    {
     "data": {
      "text/plain": [
       "True"
      ]
     },
     "execution_count": 315,
     "metadata": {},
     "output_type": "execute_result"
    }
   ],
   "execution_count": 315
  }
 ],
 "metadata": {
  "kernelspec": {
   "display_name": "Python 3",
   "language": "python",
   "name": "python3"
  },
  "language_info": {
   "codemirror_mode": {
    "name": "ipython",
    "version": 2
   },
   "file_extension": ".py",
   "mimetype": "text/x-python",
   "name": "python",
   "nbconvert_exporter": "python",
   "pygments_lexer": "ipython2",
   "version": "2.7.6"
  }
 },
 "nbformat": 4,
 "nbformat_minor": 5
}
