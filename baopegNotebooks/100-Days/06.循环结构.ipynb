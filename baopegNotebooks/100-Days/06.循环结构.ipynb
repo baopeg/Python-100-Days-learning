{
 "cells": [
  {
   "metadata": {},
   "cell_type": "markdown",
   "source": "# 06.循环结构",
   "id": "8c298c0622a21829"
  },
  {
   "metadata": {},
   "cell_type": "code",
   "outputs": [],
   "execution_count": null,
   "source": [
    "\"\"\"\n",
    " for i in range(100):\n",
    "    循环体\n",
    "    \n",
    "for _ in range(100): 如果没在循环里面使用变量，用下划线代替，尽显bge\n",
    "\n",
    "while 判断条件：\n",
    "    循环体\n",
    "    \n",
    "\"\"\""
   ],
   "id": "9b2b4e368edc6597"
  }
 ],
 "metadata": {
  "kernelspec": {
   "display_name": "Python 3",
   "language": "python",
   "name": "python3"
  },
  "language_info": {
   "codemirror_mode": {
    "name": "ipython",
    "version": 2
   },
   "file_extension": ".py",
   "mimetype": "text/x-python",
   "name": "python",
   "nbconvert_exporter": "python",
   "pygments_lexer": "ipython2",
   "version": "2.7.6"
  }
 },
 "nbformat": 4,
 "nbformat_minor": 5
}
