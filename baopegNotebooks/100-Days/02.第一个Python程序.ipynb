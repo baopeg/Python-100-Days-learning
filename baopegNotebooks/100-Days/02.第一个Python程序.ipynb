{
 "cells": [
  {
   "metadata": {},
   "cell_type": "markdown",
   "source": "# 02.第一个Python程序",
   "id": "b3f37267bdc96e5c"
  },
  {
   "metadata": {},
   "cell_type": "markdown",
   "source": [
    "主要内容：\n",
    "- Python的交互界面\n",
    "- ipython的交互界面\n",
    "- vscode、pycharm的介绍与安装\n",
    "- `print(\"hello,world!\")`"
   ],
   "id": "a1a1c39045bc406c"
  },
  {
   "metadata": {},
   "cell_type": "code",
   "outputs": [],
   "execution_count": null,
   "source": "",
   "id": "1187f599dee26224"
  }
 ],
 "metadata": {
  "kernelspec": {
   "display_name": "Python 3",
   "language": "python",
   "name": "python3"
  },
  "language_info": {
   "codemirror_mode": {
    "name": "ipython",
    "version": 2
   },
   "file_extension": ".py",
   "mimetype": "text/x-python",
   "name": "python",
   "nbconvert_exporter": "python",
   "pygments_lexer": "ipython2",
   "version": "2.7.6"
  }
 },
 "nbformat": 4,
 "nbformat_minor": 5
}
